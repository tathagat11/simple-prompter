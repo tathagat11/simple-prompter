{
 "cells": [
  {
   "cell_type": "markdown",
   "metadata": {},
   "source": [
    "## Simple prompter experiment"
   ]
  },
  {
   "cell_type": "code",
   "execution_count": 24,
   "metadata": {},
   "outputs": [],
   "source": [
    "from langchain_core.prompts import PromptTemplate\n",
    "from langchain_core.output_parsers import StrOutputParser\n",
    "\n",
    "from langsmith import traceable\n",
    "\n",
    "from langchain_google_vertexai import ChatVertexAI\n",
    "\n",
    "import vertexai"
   ]
  },
  {
   "cell_type": "code",
   "execution_count": 25,
   "metadata": {},
   "outputs": [],
   "source": [
    "vertexai.init(project=\"lustrous-router-450910-m2\", location=\"us-central1\")"
   ]
  },
  {
   "cell_type": "code",
   "execution_count": 26,
   "metadata": {},
   "outputs": [],
   "source": [
    "with open(\"../data/prompting.txt\", \"r\") as f:\n",
    "    context = f.read()"
   ]
  },
  {
   "cell_type": "code",
   "execution_count": 27,
   "metadata": {},
   "outputs": [],
   "source": [
    "model = ChatVertexAI(\n",
    "    model_name=\"gemini-1.5-flash-002\",\n",
    "    temperature=0.7\n",
    ")"
   ]
  },
  {
   "cell_type": "code",
   "execution_count": 39,
   "metadata": {},
   "outputs": [],
   "source": [
    "template = \"\"\"\n",
    "{context}\n",
    "------------------------------\n",
    "Based on the above instructions help me write a good prompt TEMPLATE.\n",
    "This template should be a python f-string. It can take any number of variables depending on my objective.\n",
    "Return answer in the following format:\n",
    "```prompt\n",
    "...\n",
    "```\n",
    "This is my objective:\n",
    "{objective}\n",
    "Return only a singular specific prompt for the objective, not the code to generate the prompt.\n",
    "\"\"\".strip()\n",
    "\n",
    "prompt = PromptTemplate.from_template(template=template)\n",
    "prompt = prompt.partial(context=context)\n",
    "\n",
    "chain = prompt | model | StrOutputParser()"
   ]
  },
  {
   "cell_type": "code",
   "execution_count": 41,
   "metadata": {},
   "outputs": [
    {
     "name": "stdout",
     "output_type": "stream",
     "text": [
      "```prompt\n",
      "Objective: Solve the following math problem.\n",
      "\n",
      "Problem: {problem_statement}\n",
      "\n",
      "Constraints: Show all work and steps.  Do not simply provide the final answer. Explain your reasoning clearly.\n",
      "\n",
      "Context: {optional_context_information}\n",
      "\n",
      "Response Format:  Provide the solution in a step-by-step format. Use Markdown to format equations and steps clearly.\n",
      "\n",
      "Solution:\n",
      "```\n"
     ]
    }
   ],
   "source": [
    "for token in chain.stream({\"objective\": \"To get answers to math problems\"}):\n",
    "    print(token, end=\"\", flush=True)"
   ]
  }
 ],
 "metadata": {
  "kernelspec": {
   "display_name": "langchain-env",
   "language": "python",
   "name": "python3"
  },
  "language_info": {
   "codemirror_mode": {
    "name": "ipython",
    "version": 3
   },
   "file_extension": ".py",
   "mimetype": "text/x-python",
   "name": "python",
   "nbconvert_exporter": "python",
   "pygments_lexer": "ipython3",
   "version": "3.11.9"
  }
 },
 "nbformat": 4,
 "nbformat_minor": 2
}
